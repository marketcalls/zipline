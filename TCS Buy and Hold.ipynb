{
 "metadata": {
  "name": "",
  "signature": "sha256:d0c9ee54cd63b943a9a70ec1f9fd8e94d22c4c7a804c933a1781384086cde596"
 },
 "nbformat": 3,
 "nbformat_minor": 0,
 "worksheets": [
  {
   "cells": [
    {
     "cell_type": "code",
     "collapsed": false,
     "input": [
      "import pandas as pd\n",
      "import pandas.io.data\n",
      "import numpy as np\n",
      "\n",
      "import pytz\n",
      "from datetime import datetime\n",
      "\n",
      "import zipline as zp\n",
      "\n",
      "from zipline.finance.slippage import FixedSlippage"
     ],
     "language": "python",
     "metadata": {},
     "outputs": [],
     "prompt_number": 1
    },
    {
     "cell_type": "code",
     "collapsed": false,
     "input": [
      "start = datetime(2008, 1, 1, 0, 0, 0, 0, pytz.utc)\n",
      "end = datetime(2014, 1, 1, 0, 0, 0, 0, pytz.utc)\n",
      "data = zp.utils.factory.load_from_yahoo(stocks=['TCS.NS'], indexes={}, start=start,\n",
      "                                        end=end, adjusted=False)\n",
      "data.plot()"
     ],
     "language": "python",
     "metadata": {},
     "outputs": [
      {
       "output_type": "stream",
       "stream": "stdout",
       "text": [
        "TCS.NS\n"
       ]
      },
      {
       "metadata": {},
       "output_type": "pyout",
       "prompt_number": 3,
       "text": [
        "<matplotlib.axes._subplots.AxesSubplot at 0xb23f9b0>"
       ]
      },
      {
       "metadata": {},
       "output_type": "display_data",
       "png": "[encoded data removed]",
       "text": [
        "<matplotlib.figure.Figure at 0xb1fd5f8>"
       ]
      }
     ],
     "prompt_number": 3
    },
    {
     "cell_type": "code",
     "collapsed": false,
     "input": [
      "class BuyTCS(zp.TradingAlgorithm): # inherit from TradingAlgorithm\n",
      "    def handle_data(self, data): # overload handle_data() method\n",
      "        self.order('TCS.NS', 1) # stock (='AAPL') to order and amount (=1 shares)"
     ],
     "language": "python",
     "metadata": {},
     "outputs": [],
     "prompt_number": 5
    },
    {
     "cell_type": "code",
     "collapsed": false,
     "input": [
      "algo = BuyTCS()\n",
      "perf = algo.run(data)"
     ],
     "language": "python",
     "metadata": {},
     "outputs": [
      {
       "output_type": "stream",
       "stream": "stderr",
       "text": [
        "[2014-09-21 13:56] INFO: Performance: Simulated 1511 trading days out of 1511.\n"
       ]
      },
      {
       "output_type": "stream",
       "stream": "stderr",
       "text": [
        "[2014-09-21 13:56] INFO: Performance: first open: 2008-01-02 14:31:00+00:00\n"
       ]
      },
      {
       "output_type": "stream",
       "stream": "stderr",
       "text": [
        "[2014-09-21 13:56] INFO: Performance: last close: 2013-12-31 21:00:00+00:00\n"
       ]
      },
      {
       "output_type": "stream",
       "stream": "stderr",
       "text": [
        "[2014-09-21 13:56] DEBUG: Risk Period: 0.277790150827 return, zeroing the returns\n"
       ]
      },
      {
       "output_type": "stream",
       "stream": "stderr",
       "text": [
        "[2014-09-21 13:56] DEBUG: Risk Period: -1.40858160546 return, zeroing the returns\n"
       ]
      },
      {
       "output_type": "stream",
       "stream": "stderr",
       "text": [
        "[2014-09-21 13:56] DEBUG: Risk Period: 1.19203841432 return, zeroing the returns\n"
       ]
      },
      {
       "output_type": "stream",
       "stream": "stderr",
       "text": [
        "[2014-09-21 13:56] DEBUG: Risk Period: 0.618843382099 return, zeroing the returns\n"
       ]
      },
      {
       "output_type": "stream",
       "stream": "stderr",
       "text": [
        "[2014-09-21 13:56] DEBUG: Risk Period: -1.38866917922 return, zeroing the returns\n"
       ]
      },
      {
       "output_type": "stream",
       "stream": "stderr",
       "text": [
        "[2014-09-21 13:56] DEBUG: Risk Period: 0.277790150827 return, zeroing the returns\n"
       ]
      },
      {
       "output_type": "stream",
       "stream": "stderr",
       "text": [
        "[2014-09-21 13:56] DEBUG: Risk Period: -1.38866917922 return, zeroing the returns\n"
       ]
      },
      {
       "output_type": "stream",
       "stream": "stderr",
       "text": [
        "[2014-09-21 13:56] DEBUG: Risk Period: -1.40858160546 return, zeroing the returns\n"
       ]
      },
      {
       "output_type": "stream",
       "stream": "stderr",
       "text": [
        "[2014-09-21 13:56] DEBUG: Risk Period: 1.81322976279 return, zeroing the returns\n"
       ]
      },
      {
       "output_type": "stream",
       "stream": "stderr",
       "text": [
        "[2014-09-21 13:56] DEBUG: Risk Period: 1.45449337225 return, zeroing the returns\n"
       ]
      },
      {
       "output_type": "stream",
       "stream": "stderr",
       "text": [
        "[2014-09-21 13:56] DEBUG: Risk Period: -1.38866917922 return, zeroing the returns\n"
       ]
      },
      {
       "output_type": "stream",
       "stream": "stderr",
       "text": [
        "[2014-09-21 13:56] DEBUG: Risk Period: 1.7562426341 return, zeroing the returns\n"
       ]
      },
      {
       "output_type": "stream",
       "stream": "stderr",
       "text": [
        "[2014-09-21 13:56] DEBUG: Risk Period: -1.38866917922 return, zeroing the returns\n"
       ]
      },
      {
       "output_type": "stream",
       "stream": "stderr",
       "text": [
        "[2014-09-21 13:56] DEBUG: Risk Period: 1.19203841432 return, zeroing the returns\n"
       ]
      },
      {
       "output_type": "stream",
       "stream": "stderr",
       "text": [
        "[2014-09-21 13:56] DEBUG: Risk Period: -1.38866917922 return, zeroing the returns\n"
       ]
      },
      {
       "output_type": "stream",
       "stream": "stderr",
       "text": [
        "[2014-09-21 13:56] DEBUG: Risk Period: 0.618843382099 return, zeroing the returns\n"
       ]
      },
      {
       "output_type": "stream",
       "stream": "stderr",
       "text": [
        "[2014-09-21 13:56] DEBUG: Risk Period: -1.38866917922 return, zeroing the returns\n"
       ]
      },
      {
       "output_type": "stream",
       "stream": "stderr",
       "text": [
        "[2014-09-21 13:56] DEBUG: Risk Period: 0.277790150827 return, zeroing the returns\n"
       ]
      },
      {
       "output_type": "stream",
       "stream": "stderr",
       "text": [
        "[2014-09-21 13:56] DEBUG: Risk Period: -1.38866917922 return, zeroing the returns\n"
       ]
      },
      {
       "output_type": "stream",
       "stream": "stderr",
       "text": [
        "[2014-09-21 13:56] DEBUG: Risk Period: -1.40858160546 return, zeroing the returns\n"
       ]
      },
      {
       "output_type": "stream",
       "stream": "stderr",
       "text": [
        "[2014-09-21 13:56] DEBUG: Risk Period: 0.269711584296 return, zeroing the returns\n"
       ]
      },
      {
       "output_type": "stream",
       "stream": "stderr",
       "text": [
        "[2014-09-21 13:56] DEBUG: Risk Period: 0.311094416392 return, zeroing the returns\n"
       ]
      },
      {
       "output_type": "stream",
       "stream": "stderr",
       "text": [
        "[2014-09-21 13:56] DEBUG: Risk Period: -1.38866917922 return, zeroing the returns\n"
       ]
      },
      {
       "output_type": "stream",
       "stream": "stderr",
       "text": [
        "[2014-09-21 13:56] DEBUG: Risk Period: 0.34627334985 return, zeroing the returns\n"
       ]
      },
      {
       "output_type": "stream",
       "stream": "stderr",
       "text": [
        "[2014-09-21 13:56] DEBUG: Risk Period: -1.38866917922 return, zeroing the returns\n"
       ]
      },
      {
       "output_type": "stream",
       "stream": "stderr",
       "text": [
        "[2014-09-21 13:56] DEBUG: Risk Period: 0.750645815433 return, zeroing the returns\n"
       ]
      },
      {
       "output_type": "stream",
       "stream": "stderr",
       "text": [
        "[2014-09-21 13:56] DEBUG: Risk Period: -1.38866917922 return, zeroing the returns\n"
       ]
      },
      {
       "output_type": "stream",
       "stream": "stderr",
       "text": [
        "[2014-09-21 13:56] DEBUG: Risk Period: 1.27183449909 return, zeroing the returns\n"
       ]
      },
      {
       "output_type": "stream",
       "stream": "stderr",
       "text": [
        "[2014-09-21 13:56] DEBUG: Risk Period: -1.38866917922 return, zeroing the returns\n"
       ]
      },
      {
       "output_type": "stream",
       "stream": "stderr",
       "text": [
        "[2014-09-21 13:56] DEBUG: Risk Period: 1.10452102009 return, zeroing the returns\n"
       ]
      },
      {
       "output_type": "stream",
       "stream": "stderr",
       "text": [
        "[2014-09-21 13:56] DEBUG: Risk Period: -1.38866917922 return, zeroing the returns\n"
       ]
      },
      {
       "output_type": "stream",
       "stream": "stderr",
       "text": [
        "[2014-09-21 13:56] DEBUG: Risk Period: 1.81322976279 return, zeroing the returns\n"
       ]
      },
      {
       "output_type": "stream",
       "stream": "stderr",
       "text": [
        "[2014-09-21 13:56] DEBUG: Risk Period: -1.38866917922 return, zeroing the returns\n"
       ]
      },
      {
       "output_type": "stream",
       "stream": "stderr",
       "text": [
        "[2014-09-21 13:56] DEBUG: Risk Period: 1.45449337225 return, zeroing the returns\n"
       ]
      },
      {
       "output_type": "stream",
       "stream": "stderr",
       "text": [
        "[2014-09-21 13:56] DEBUG: Risk Period: -1.38866917922 return, zeroing the returns\n"
       ]
      },
      {
       "output_type": "stream",
       "stream": "stderr",
       "text": [
        "[2014-09-21 13:56] DEBUG: Risk Period: 1.7562426341 return, zeroing the returns\n"
       ]
      },
      {
       "output_type": "stream",
       "stream": "stderr",
       "text": [
        "[2014-09-21 13:56] DEBUG: Risk Period: -1.38866917922 return, zeroing the returns\n"
       ]
      },
      {
       "output_type": "stream",
       "stream": "stderr",
       "text": [
        "[2014-09-21 13:56] DEBUG: Risk Period: 1.19203841432 return, zeroing the returns\n"
       ]
      },
      {
       "output_type": "stream",
       "stream": "stderr",
       "text": [
        "[2014-09-21 13:56] DEBUG: Risk Period: -1.38866917922 return, zeroing the returns\n"
       ]
      },
      {
       "output_type": "stream",
       "stream": "stderr",
       "text": [
        "[2014-09-21 13:56] DEBUG: Risk Period: 0.618843382099 return, zeroing the returns\n"
       ]
      },
      {
       "output_type": "stream",
       "stream": "stderr",
       "text": [
        "[2014-09-21 13:56] DEBUG: Risk Period: -1.38866917922 return, zeroing the returns\n"
       ]
      },
      {
       "output_type": "stream",
       "stream": "stderr",
       "text": [
        "[2014-09-21 13:56] DEBUG: Risk Period: 0.277790150827 return, zeroing the returns\n"
       ]
      },
      {
       "output_type": "stream",
       "stream": "stderr",
       "text": [
        "[2014-09-21 13:56] DEBUG: Risk Period: -1.38866917922 return, zeroing the returns\n"
       ]
      },
      {
       "output_type": "stream",
       "stream": "stderr",
       "text": [
        "[2014-09-21 13:56] DEBUG: Risk Period: -1.40858160546 return, zeroing the returns\n"
       ]
      }
     ],
     "prompt_number": 6
    },
    {
     "cell_type": "code",
     "collapsed": false,
     "input": [
      "perf\n",
      "perf.portfolio_value.plot()"
     ],
     "language": "python",
     "metadata": {},
     "outputs": [
      {
       "metadata": {},
       "output_type": "pyout",
       "prompt_number": 7,
       "text": [
        "<matplotlib.axes._subplots.AxesSubplot at 0xc04c198>"
       ]
      },
      {
       "metadata": {},
       "output_type": "display_data",
       "png": "[encoded data removed]",
       "text": [
        "<matplotlib.figure.Figure at 0xb23f2b0>"
       ]
      }
     ],
     "prompt_number": 7
    },
    {
     "cell_type": "code",
     "collapsed": false,
     "input": [],
     "language": "python",
     "metadata": {},
     "outputs": []
    }
   ],
   "metadata": {}
  }
 ]
}
